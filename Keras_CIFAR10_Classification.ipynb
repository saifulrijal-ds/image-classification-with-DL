{
  "nbformat": 4,
  "nbformat_minor": 0,
  "metadata": {
    "colab": {
      "name": "Keras CIFAR10 Classification.ipynb",
      "provenance": [],
      "collapsed_sections": [],
      "mount_file_id": "1BcVcbjzTpF_5_NvnRJ6YHF9_jv7H7q-z",
      "authorship_tag": "ABX9TyOQunJI5zoSzGohjNusTgHo",
      "include_colab_link": true
    },
    "kernelspec": {
      "name": "python3",
      "display_name": "Python 3"
    }
  },
  "cells": [
    {
      "cell_type": "markdown",
      "metadata": {
        "id": "view-in-github",
        "colab_type": "text"
      },
      "source": [
        "<a href=\"https://colab.research.google.com/github/saifulrijal-ds/image-classification-with-DL/blob/main/Keras_CIFAR10_Classification.ipynb\" target=\"_parent\"><img src=\"https://colab.research.google.com/assets/colab-badge.svg\" alt=\"Open In Colab\"/></a>"
      ]
    },
    {
      "cell_type": "markdown",
      "metadata": {
        "id": "_4zohJkZp4px"
      },
      "source": [
        "Pada latihan ini kita akan melakukan klasifikasi multi-kelas yaitu mengklasifikasikan gambar ke dalam 10 kelas dengan menggunakan dataset CIFAR10"
      ]
    },
    {
      "cell_type": "code",
      "metadata": {
        "id": "oIjLRI3GppH5"
      },
      "source": [
        "# set random seed\n",
        "from tensorflow.random import set_seed\n",
        "set_seed(404)"
      ],
      "execution_count": 3,
      "outputs": []
    },
    {
      "cell_type": "code",
      "metadata": {
        "id": "_pWuMQNVr4Gi"
      },
      "source": [
        "# import package\n",
        "import numpy as np\n",
        "import tensorflow as tf\n",
        "from tensorflow import keras"
      ],
      "execution_count": 4,
      "outputs": []
    },
    {
      "cell_type": "markdown",
      "metadata": {
        "id": "_s76ikiDp2dX"
      },
      "source": [
        ""
      ]
    }
  ]
}