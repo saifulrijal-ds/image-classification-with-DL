{
  "nbformat": 4,
  "nbformat_minor": 0,
  "metadata": {
    "colab": {
      "name": "Keras CIFAR10 Classification.ipynb",
      "provenance": [],
      "collapsed_sections": [],
      "toc_visible": true,
      "mount_file_id": "1BcVcbjzTpF_5_NvnRJ6YHF9_jv7H7q-z",
      "authorship_tag": "ABX9TyPYnmCu6Bfs3R1GRnaYScjM",
      "include_colab_link": true
    },
    "kernelspec": {
      "name": "python3",
      "display_name": "Python 3"
    }
  },
  "cells": [
    {
      "cell_type": "markdown",
      "metadata": {
        "id": "view-in-github",
        "colab_type": "text"
      },
      "source": [
        "<a href=\"https://colab.research.google.com/github/saifulrijal-ds/image-classification-with-DL/blob/main/Keras_CIFAR10_Classification.ipynb\" target=\"_parent\"><img src=\"https://colab.research.google.com/assets/colab-badge.svg\" alt=\"Open In Colab\"/></a>"
      ]
    },
    {
      "cell_type": "markdown",
      "metadata": {
        "id": "_4zohJkZp4px"
      },
      "source": [
        "Pada latihan ini kita akan melakukan klasifikasi multi-kelas yaitu mengklasifikasikan gambar ke dalam 10 kelas dengan menggunakan dataset [CIFAR-10](https://www.cs.toronto.edu/~kriz/cifar.html/)."
      ]
    },
    {
      "cell_type": "code",
      "metadata": {
        "id": "oIjLRI3GppH5"
      },
      "source": [
        "# set random seed\n",
        "from tensorflow.random import set_seed\n",
        "set_seed(404)"
      ],
      "execution_count": 81,
      "outputs": []
    },
    {
      "cell_type": "code",
      "metadata": {
        "id": "_pWuMQNVr4Gi",
        "outputId": "d1c91d31-fa99-43ee-d05d-888130fc2c08",
        "colab": {
          "base_uri": "https://localhost:8080/",
          "height": 51
        }
      },
      "source": [
        "# import package\n",
        "import os\n",
        "import datetime\n",
        "import numpy as np\n",
        "import tensorflow as tf\n",
        "import matplotlib.pyplot as plt\n",
        "%matplotlib inline\n",
        "\n",
        "from tensorflow import keras\n",
        "from tensorflow.keras.datasets import cifar10\n",
        "from tensorflow.keras.preprocessing.image import array_to_img\n",
        "from tensorflow.keras.models import Sequential\n",
        "from tensorflow.keras.layers import Dense, Activation, Dropout\n",
        "from tensorflow.keras.callbacks import TensorBoard\n",
        "\n",
        "from sklearn.model_selection import train_test_split\n",
        "\n",
        "%load_ext tensorboard\n",
        "from tensorboard import notebook"
      ],
      "execution_count": 120,
      "outputs": [
        {
          "output_type": "stream",
          "text": [
            "The tensorboard extension is already loaded. To reload it, use:\n",
            "  %reload_ext tensorboard\n"
          ],
          "name": "stdout"
        }
      ]
    },
    {
      "cell_type": "markdown",
      "metadata": {
        "id": "_s76ikiDp2dX"
      },
      "source": [
        "## Get Dataset"
      ]
    },
    {
      "cell_type": "code",
      "metadata": {
        "id": "D4OmCDMPuZcJ"
      },
      "source": [
        "(X_train_all, y_train_all), (X_test, y_test) = cifar10.load_data()"
      ],
      "execution_count": 83,
      "outputs": []
    },
    {
      "cell_type": "markdown",
      "metadata": {
        "id": "YCd-qEBI2QMJ"
      },
      "source": [
        "X_train dan y_train 'all' karena kita akan membaginya kembali menjadi dataset train dan validasi."
      ]
    },
    {
      "cell_type": "code",
      "metadata": {
        "id": "yE36wnqvvItt",
        "outputId": "d0d767c1-3eb9-4ff4-c51a-d5fc10c27375",
        "colab": {
          "base_uri": "https://localhost:8080/",
          "height": 51
        }
      },
      "source": [
        "print(\"X_train.shape:\", X_train_all.shape)\n",
        "print(\"y_train.shapeL:\", y_train_all.shape)"
      ],
      "execution_count": 84,
      "outputs": [
        {
          "output_type": "stream",
          "text": [
            "X_train.shape: (50000, 32, 32, 3)\n",
            "y_train.shapeL: (50000, 1)\n"
          ],
          "name": "stdout"
        }
      ]
    },
    {
      "cell_type": "code",
      "metadata": {
        "id": "6TZLMxeKvNGK",
        "outputId": "007b7024-9742-4717-cce5-4cf2c9922788",
        "colab": {
          "base_uri": "https://localhost:8080/",
          "height": 51
        }
      },
      "source": [
        "print(\"X_test.shape:\", X_test.shape)\n",
        "print(\"y_test.shape:\", y_test.shape)"
      ],
      "execution_count": 85,
      "outputs": [
        {
          "output_type": "stream",
          "text": [
            "X_test.shape: (10000, 32, 32, 3)\n",
            "y_test.shape: (10000, 1)\n"
          ],
          "name": "stdout"
        }
      ]
    },
    {
      "cell_type": "markdown",
      "metadata": {
        "id": "I5t8DL5kwmvT"
      },
      "source": [
        "## Explore dataset"
      ]
    },
    {
      "cell_type": "code",
      "metadata": {
        "id": "LVSP5Ripvgq5",
        "outputId": "568e98e4-7325-475a-fbe9-f7bf3d1c3ea6",
        "colab": {
          "base_uri": "https://localhost:8080/",
          "height": 850
        }
      },
      "source": [
        "# first image in dataset\n",
        "X_train_all[0]"
      ],
      "execution_count": 86,
      "outputs": [
        {
          "output_type": "execute_result",
          "data": {
            "text/plain": [
              "array([[[ 59,  62,  63],\n",
              "        [ 43,  46,  45],\n",
              "        [ 50,  48,  43],\n",
              "        ...,\n",
              "        [158, 132, 108],\n",
              "        [152, 125, 102],\n",
              "        [148, 124, 103]],\n",
              "\n",
              "       [[ 16,  20,  20],\n",
              "        [  0,   0,   0],\n",
              "        [ 18,   8,   0],\n",
              "        ...,\n",
              "        [123,  88,  55],\n",
              "        [119,  83,  50],\n",
              "        [122,  87,  57]],\n",
              "\n",
              "       [[ 25,  24,  21],\n",
              "        [ 16,   7,   0],\n",
              "        [ 49,  27,   8],\n",
              "        ...,\n",
              "        [118,  84,  50],\n",
              "        [120,  84,  50],\n",
              "        [109,  73,  42]],\n",
              "\n",
              "       ...,\n",
              "\n",
              "       [[208, 170,  96],\n",
              "        [201, 153,  34],\n",
              "        [198, 161,  26],\n",
              "        ...,\n",
              "        [160, 133,  70],\n",
              "        [ 56,  31,   7],\n",
              "        [ 53,  34,  20]],\n",
              "\n",
              "       [[180, 139,  96],\n",
              "        [173, 123,  42],\n",
              "        [186, 144,  30],\n",
              "        ...,\n",
              "        [184, 148,  94],\n",
              "        [ 97,  62,  34],\n",
              "        [ 83,  53,  34]],\n",
              "\n",
              "       [[177, 144, 116],\n",
              "        [168, 129,  94],\n",
              "        [179, 142,  87],\n",
              "        ...,\n",
              "        [216, 184, 140],\n",
              "        [151, 118,  84],\n",
              "        [123,  92,  72]]], dtype=uint8)"
            ]
          },
          "metadata": {
            "tags": []
          },
          "execution_count": 86
        }
      ]
    },
    {
      "cell_type": "code",
      "metadata": {
        "id": "tL5xaKi0w9Re",
        "outputId": "9cf633cc-ad4e-4240-a0cf-ce3e0fd7c6f4",
        "colab": {
          "base_uri": "https://localhost:8080/",
          "height": 49
        }
      },
      "source": [
        "pic = array_to_img(X_train_all[0])\n",
        "pic"
      ],
      "execution_count": 87,
      "outputs": [
        {
          "output_type": "execute_result",
          "data": {
            "image/png": "[encoded data removed]",
            "text/plain": [
              "<PIL.Image.Image image mode=RGB size=32x32 at 0x7FACB3545978>"
            ]
          },
          "metadata": {
            "tags": []
          },
          "execution_count": 87
        }
      ]
    },
    {
      "cell_type": "code",
      "metadata": {
        "id": "tUg3oz2GxPWy",
        "outputId": "f24ab584-a3a8-4103-99be-ad434c187da0",
        "colab": {
          "base_uri": "https://localhost:8080/",
          "height": 34
        }
      },
      "source": [
        "# label index\n",
        "y_train_all[0][0]"
      ],
      "execution_count": 88,
      "outputs": [
        {
          "output_type": "execute_result",
          "data": {
            "text/plain": [
              "6"
            ]
          },
          "metadata": {
            "tags": []
          },
          "execution_count": 88
        }
      ]
    },
    {
      "cell_type": "markdown",
      "metadata": {
        "id": "RzNJQx9Gy1Sh"
      },
      "source": [
        "Berdasarkan situs [CIFAR-10](https://www.cs.toronto.edu/~kriz/cifar.html) dan [diskusi](https://github.com/keras-team/keras/issues/2653#issuecomment-217662744) indeks label dibaca 0: airplane, 1: automobile dst."
      ]
    },
    {
      "cell_type": "code",
      "metadata": {
        "id": "1co0onkByfPh"
      },
      "source": [
        "# variable name\n",
        "label_names = ['airplane', 'automobile', 'bird', 'cat', 'deer', \n",
        "               'dog', 'frog', 'horse', 'ship', 'truck']\n",
        "\n",
        "# label_dict = {}\n",
        "# for i in range(0, 10):\n",
        "#   label_dict[i] = label_names[i]\n",
        "\n",
        "# label_dict"
      ],
      "execution_count": 89,
      "outputs": []
    },
    {
      "cell_type": "code",
      "metadata": {
        "id": "e8iwzcfQ0oC4",
        "outputId": "4431afc7-aac0-4dd8-fc5d-1203cd57e6ac",
        "colab": {
          "base_uri": "https://localhost:8080/",
          "height": 285
        }
      },
      "source": [
        "# show image with matplotlib\n",
        "plt.imshow(X_train_all[0])\n",
        "plt.xlabel(label_names[y_train_all[0][0]], fontsize=15)\n",
        "plt.show()"
      ],
      "execution_count": 90,
      "outputs": [
        {
          "output_type": "display_data",
          "data": {
            "image/png": "[encoded data removed]",
            "text/plain": [
              "<Figure size 432x288 with 1 Axes>"
            ]
          },
          "metadata": {
            "tags": [],
            "needs_background": "light"
          }
        }
      ]
    },
    {
      "cell_type": "code",
      "metadata": {
        "id": "DUZfpTJa2JFt",
        "outputId": "b9cfc413-413e-46ec-9794-8374bbc45df8",
        "colab": {
          "base_uri": "https://localhost:8080/",
          "height": 116
        }
      },
      "source": [
        "plt.figure(figsize=(15, 5))\n",
        "\n",
        "for i in range(10):\n",
        "  plt.subplot(1, 10, i+1)\n",
        "  # delete x and y tick\n",
        "  plt.yticks([])\n",
        "  plt.xticks([])\n",
        "  plt.xlabel(label_names[y_train_all[i][0]], fontsize=11)\n",
        "  plt.imshow(X_train_all[i])\n"
      ],
      "execution_count": 91,
      "outputs": [
        {
          "output_type": "display_data",
          "data": {
            "image/png": "[encoded data removed]",
            "text/plain": [
              "<Figure size 1080x360 with 10 Axes>"
            ]
          },
          "metadata": {
            "tags": []
          }
        }
      ]
    },
    {
      "cell_type": "markdown",
      "metadata": {
        "id": "8DzqBQm3-KlH"
      },
      "source": [
        "Perhatikan penggunaan subplot dan subplots modul matplotlib, index subplot dimulai dari angka 1 bukan 0 sperti pada index objek python yang lain."
      ]
    },
    {
      "cell_type": "code",
      "metadata": {
        "id": "xDdEsSQk6Qso",
        "outputId": "afab7beb-0582-43d7-86c2-44537686e46f",
        "colab": {
          "base_uri": "https://localhost:8080/",
          "height": 34
        }
      },
      "source": [
        "X_train_all[0].shape"
      ],
      "execution_count": 92,
      "outputs": [
        {
          "output_type": "execute_result",
          "data": {
            "text/plain": [
              "(32, 32, 3)"
            ]
          },
          "metadata": {
            "tags": []
          },
          "execution_count": 92
        }
      ]
    },
    {
      "cell_type": "code",
      "metadata": {
        "id": "2meuKGo6_hrH",
        "outputId": "8836bf6f-b548-4102-e952-a718cffb1da9",
        "colab": {
          "base_uri": "https://localhost:8080/",
          "height": 34
        }
      },
      "source": [
        "n_images, w, h, c = X_train_all.shape\n",
        "print(f'images = {n_images} \\t| width = {w} \\t| height = {h} \\t | channels = {c}')"
      ],
      "execution_count": 93,
      "outputs": [
        {
          "output_type": "stream",
          "text": [
            "images = 50000 \t| width = 32 \t| height = 32 \t | channels = 3\n"
          ],
          "name": "stdout"
        }
      ]
    },
    {
      "cell_type": "markdown",
      "metadata": {
        "id": "hC9d4FjrAiBX"
      },
      "source": [
        "Sedikit keterangan: \n",
        "* width dan height memiliki satuan pixel, \n",
        "* channel yang dimaksud adalah color, 3 channel memiliki 3 warna yaitu RGB (Red, Green, dan Blue),\n",
        "* f sebelum string merupakan salah satu cara pemformatan selain menngunakan metode format() dan %."
      ]
    },
    {
      "cell_type": "markdown",
      "metadata": {
        "id": "u-qu0JsWWvga"
      },
      "source": [
        "## Preprocess Data\n",
        "karena data berasal dari package Keras sendiri, pada dasarnya data tidak memerlukan terlalu banyak preprocess.  \n",
        "Yang akan dilakikan adalah:\n",
        "* Scaling, membagi seluruh nilai dengan nilai 255.0 (nilai maksimum RGB), menghasilkan nilai antara 0 - 1. Hal ini berpengaruh terhadap learning rate, semakin kecil nilai yang dievaluasi (menghitung loss dan menyesuaikan weight).\n",
        "* Flatten out / meratakan, reshape data dari 4 dimensi menjadi 2 dimensi. Merubah / reshape satu data image 3 dimensi menjadi 1 dimensi. Bentuk awal, 3 dimensi, tidak masalah (tetap bekerja), hanya untuk mempermudah secara konsep untuk merepresentasikan satu image ke dalam satu vektor.\n",
        "* Membagi data (X_train_all) menjadi data training dan data validation. Hal bertujuan agar proses evaluasi model dapat dilakukan tanpa menggunakan data testing (X_test) tetapi menggunakan data validation, agar penggunaan data testing terkesan lebihi realistis."
      ]
    },
    {
      "cell_type": "code",
      "metadata": {
        "id": "l_frt3eZAd2Y",
        "outputId": "86aa1b57-1302-4d00-e059-181c2237978a",
        "colab": {
          "base_uri": "https://localhost:8080/",
          "height": 34
        }
      },
      "source": [
        "type(X_train_all[0][0][0][0])"
      ],
      "execution_count": 94,
      "outputs": [
        {
          "output_type": "execute_result",
          "data": {
            "text/plain": [
              "numpy.uint8"
            ]
          },
          "metadata": {
            "tags": []
          },
          "execution_count": 94
        }
      ]
    },
    {
      "cell_type": "code",
      "metadata": {
        "id": "xpJau1o7c-WJ"
      },
      "source": [
        "X_train_all, X_test = X_train_all / 255.0, X_test / 255.0"
      ],
      "execution_count": 95,
      "outputs": []
    },
    {
      "cell_type": "code",
      "metadata": {
        "id": "U-rLi_Y3dJV1",
        "outputId": "211e39c3-930f-4bc4-b1a7-9ca9d3f76931",
        "colab": {
          "base_uri": "https://localhost:8080/",
          "height": 34
        }
      },
      "source": [
        "type(X_train_all[0][0][0][0])"
      ],
      "execution_count": 96,
      "outputs": [
        {
          "output_type": "execute_result",
          "data": {
            "text/plain": [
              "numpy.float64"
            ]
          },
          "metadata": {
            "tags": []
          },
          "execution_count": 96
        }
      ]
    },
    {
      "cell_type": "code",
      "metadata": {
        "id": "AimDBeI1dNtz"
      },
      "source": [
        "#create variable\n",
        "image_width = 32\n",
        "image_height = 32\n",
        "color_channels = 3\n",
        "image_pixels = image_width * image_height\n",
        "total_input = image_pixels * color_channels"
      ],
      "execution_count": 97,
      "outputs": []
    },
    {
      "cell_type": "code",
      "metadata": {
        "id": "0fLVIi-3fgJ3"
      },
      "source": [
        "X_train_all = X_train_all.reshape(X_train_all.shape[0], total_input)"
      ],
      "execution_count": 98,
      "outputs": []
    },
    {
      "cell_type": "code",
      "metadata": {
        "id": "4_LqSJGcgAZ4"
      },
      "source": [
        "X_test = X_test.reshape(X_test.shape[0], total_input)"
      ],
      "execution_count": 99,
      "outputs": []
    },
    {
      "cell_type": "code",
      "metadata": {
        "id": "C3hSt_ZxgIca",
        "outputId": "1d4c9ce0-7dd8-4aaa-8449-b5968d9728b5",
        "colab": {
          "base_uri": "https://localhost:8080/",
          "height": 51
        }
      },
      "source": [
        "print(f'X_train_all.shape: {X_train_all.shape}')\n",
        "print(f'X_test.shape: {X_test.shape}')"
      ],
      "execution_count": 100,
      "outputs": [
        {
          "output_type": "stream",
          "text": [
            "X_train_all.shape: (50000, 3072)\n",
            "X_test.shape: (10000, 3072)\n"
          ],
          "name": "stdout"
        }
      ]
    },
    {
      "cell_type": "markdown",
      "metadata": {
        "id": "C4RttoXCiCvL"
      },
      "source": [
        "#### Create Validation Dataset"
      ]
    },
    {
      "cell_type": "code",
      "metadata": {
        "id": "zpL1RJp2glss"
      },
      "source": [
        "X_train, X_val, y_train, y_val = train_test_split(X_train_all, y_train_all, test_size=0.2)"
      ],
      "execution_count": 101,
      "outputs": []
    },
    {
      "cell_type": "code",
      "metadata": {
        "id": "_y8BjOhWkw5r",
        "outputId": "7d81af08-a618-4f72-db90-46e8e8cbec8c",
        "colab": {
          "base_uri": "https://localhost:8080/",
          "height": 51
        }
      },
      "source": [
        "print(f'X_train.shape: {X_train.shape}')\n",
        "print(f'X_val.shape: {X_val.shape}')"
      ],
      "execution_count": 102,
      "outputs": [
        {
          "output_type": "stream",
          "text": [
            "X_train.shape: (40000, 3072)\n",
            "X_val.shape: (10000, 3072)\n"
          ],
          "name": "stdout"
        }
      ]
    },
    {
      "cell_type": "code",
      "metadata": {
        "id": "22rimxqmk81j"
      },
      "source": [
        "# code in tutorial\n",
        "# X_val = X_train_all[:10000]\n",
        "# y_val = y_train_all[:10000]\n",
        "\n",
        "# X_train = X_train_all[10000:]\n",
        "# y_train = y_train_all[10000:]"
      ],
      "execution_count": 103,
      "outputs": []
    },
    {
      "cell_type": "markdown",
      "metadata": {
        "id": "o3i2fY31mdDc"
      },
      "source": [
        "#### Cretae small dataset for illustration"
      ]
    },
    {
      "cell_type": "code",
      "metadata": {
        "id": "JG5QT9YVmcS_"
      },
      "source": [
        "X_train_xs = X_train[:1000]\n",
        "y_train_xs = y_train[:1000]"
      ],
      "execution_count": 104,
      "outputs": []
    },
    {
      "cell_type": "markdown",
      "metadata": {
        "id": "3yN2BF2tnbCC"
      },
      "source": [
        "## Modeling\n",
        "langkah-langkah dalam membangun sebuah model dalam Tensorflow - Keras:\n",
        "1. Define, menentukan struktur model yang akan digunakan.\n",
        "2. Compile, set up lebih lanjut modelnya seperti bagaimana menghitung loss-nya, menghitung penyesuian weights.\n",
        "3. Fit, training the model"
      ]
    },
    {
      "cell_type": "markdown",
      "metadata": {
        "id": "OIAlAudhqcdu"
      },
      "source": [
        "#### Define and compile the neural network using Keras"
      ]
    },
    {
      "cell_type": "code",
      "metadata": {
        "id": "49rjDZFCmusb"
      },
      "source": [
        "model_1 = Sequential([\n",
        "    Dense(units=128, input_dim=total_input, activation='relu', name='m1_hidden1'),\n",
        "    Dense(units=64, activation='relu', name='m1_hidden2'),\n",
        "    Dense(units=16, activation='relu', name='m1_hidden3'),\n",
        "    Dense(units=10, activation='softmax', name='m1_output')\n",
        "])\n",
        "\n",
        "model_1.compile(optimizer='adam',\n",
        "                loss='sparse_categorical_crossentropy',\n",
        "                metrics=['accuracy'])"
      ],
      "execution_count": 105,
      "outputs": []
    },
    {
      "cell_type": "code",
      "metadata": {
        "id": "7hQYoMrDxcsE"
      },
      "source": [
        "model_2 = Sequential([\n",
        "    Dropout(0.2, input_shape=(total_input,)),\n",
        "    Dense(units=128, input_dim=total_input, activation='relu', name='m2_hidden1'),\n",
        "    Dense(units=64, activation='relu', name='m2_hidden2'),\n",
        "    Dense(units=16, activation='relu', name='m2_hidden3'),\n",
        "    Dense(units=10, activation='softmax', name='m1_output')\n",
        "])\n",
        "\n",
        "model_2.compile(optimizer='adam',\n",
        "                loss='sparse_categorical_crossentropy',\n",
        "                metrics=['accuracy'])"
      ],
      "execution_count": 121,
      "outputs": []
    },
    {
      "cell_type": "code",
      "metadata": {
        "id": "y1xcZJpSseUx",
        "outputId": "fd779f65-e638-40ca-e7a4-e4aacbaeec88",
        "colab": {
          "base_uri": "https://localhost:8080/",
          "height": 34
        }
      },
      "source": [
        "type(model_1)"
      ],
      "execution_count": 106,
      "outputs": [
        {
          "output_type": "execute_result",
          "data": {
            "text/plain": [
              "tensorflow.python.keras.engine.sequential.Sequential"
            ]
          },
          "metadata": {
            "tags": []
          },
          "execution_count": 106
        }
      ]
    },
    {
      "cell_type": "markdown",
      "metadata": {
        "id": "o7ZifznJsjE1"
      },
      "source": [
        "Terdapat 4 fungsu Dense(), Dense pertama hingga ke tiga menunjukkan hidden layer (input layer direpresentasikan oleh parameter input_dim pada Dense() pertama). Dan Dense keempat merupakan output layer. Jumlah unit pada output layer pada klasifikasi problem ditentukan berdasarkan jumlah kelas label, begitu pula untuk fungsi aktivasinya apakah ia klasifikakasi biner atau multi-kelas.  \n",
        "\n",
        "_Saya masih belum memahami bagaimana menentukan optimal jumlah layer dan unit pada masih-masing hidden layer, serta fungsi aktivasinya._  \n",
        "\n",
        "* [Keras Optimizer](https://keras.io/api/optimizers/)\n",
        "* [Sparse Categorical Cross Entropy - losses function](https://keras.io/api/losses/probabilistic_losses/#sparsecategoricalcrossentropy-class)\n",
        "* [Metrics](https://keras.io/api/metrics/)"
      ]
    },
    {
      "cell_type": "code",
      "metadata": {
        "id": "mSS06JYQsgpz",
        "outputId": "f035bc1a-59f2-431b-8c7b-0e8ac808ba3d",
        "colab": {
          "base_uri": "https://localhost:8080/",
          "height": 289
        }
      },
      "source": [
        "model_1.summary()"
      ],
      "execution_count": 107,
      "outputs": [
        {
          "output_type": "stream",
          "text": [
            "Model: \"sequential_4\"\n",
            "_________________________________________________________________\n",
            "Layer (type)                 Output Shape              Param #   \n",
            "=================================================================\n",
            "m1_hidden1 (Dense)           (None, 128)               393344    \n",
            "_________________________________________________________________\n",
            "m1_hidden2 (Dense)           (None, 64)                8256      \n",
            "_________________________________________________________________\n",
            "m1_hidden3 (Dense)           (None, 16)                1040      \n",
            "_________________________________________________________________\n",
            "m1_output (Dense)            (None, 10)                170       \n",
            "=================================================================\n",
            "Total params: 402,810\n",
            "Trainable params: 402,810\n",
            "Non-trainable params: 0\n",
            "_________________________________________________________________\n"
          ],
          "name": "stdout"
        }
      ]
    },
    {
      "cell_type": "markdown",
      "metadata": {
        "id": "JWmEvBRAF1vm"
      },
      "source": [
        "Darimana total parameter dihitung? yaitu dari jumlah koneksi antar neuron ditambahkan dengan jumlah bias, sejumlah neuron pada setiap lapisan (hidden layer)."
      ]
    },
    {
      "cell_type": "code",
      "metadata": {
        "id": "uTK5QWrREynE",
        "outputId": "29db3baa-88c3-4fe5-afcb-f914f1a9a4d3",
        "colab": {
          "base_uri": "https://localhost:8080/",
          "height": 34
        }
      },
      "source": [
        "bias1 = 128\n",
        "hidden1 = 32*32*3*128 + bias1\n",
        "bias2 = 64\n",
        "hidden2 = 128*64 + bias2\n",
        "bias3 = 16\n",
        "hidden3 = 64*16 + bias3\n",
        "bias_output = 10\n",
        "output = 16*10 + bias_output\n",
        "\n",
        "hidden1 + hidden2 + hidden3 + output"
      ],
      "execution_count": 108,
      "outputs": [
        {
          "output_type": "execute_result",
          "data": {
            "text/plain": [
              "402810"
            ]
          },
          "metadata": {
            "tags": []
          },
          "execution_count": 108
        }
      ]
    },
    {
      "cell_type": "markdown",
      "metadata": {
        "id": "WbK3VsO0NK2N"
      },
      "source": [
        "#### Tensorboard (visualising learning)"
      ]
    },
    {
      "cell_type": "code",
      "metadata": {
        "id": "1shE6eU2OI6M"
      },
      "source": [
        "# print(datetime.datetime.now().strftime('%Y%m%d-%H%M%S'))"
      ],
      "execution_count": 109,
      "outputs": []
    },
    {
      "cell_type": "code",
      "metadata": {
        "id": "g_18SXJKPfjM"
      },
      "source": [
        "# logdir = os.path.join('/content/drive/My Drive/Image Classification with Deep Learning',\n",
        "#                       datetime.datetime.now().strftime('%Y%m%d-%H%M%S'))"
      ],
      "execution_count": 110,
      "outputs": []
    },
    {
      "cell_type": "code",
      "metadata": {
        "id": "XfvLUEQ_GfOQ"
      },
      "source": [
        "logdir = os.path.join(\"logs\", datetime.datetime.now().strftime('%Y%m%d-%H%M%S'))\n",
        "tensorboard_callback = TensorBoard(log_dir=logdir)"
      ],
      "execution_count": 111,
      "outputs": []
    },
    {
      "cell_type": "code",
      "metadata": {
        "id": "BeXSTwssnUGa"
      },
      "source": [
        "get_ipython().system_raw(\n",
        "    'tensorboard --logdir {} --host 0.0.0.0 --port 6006 &'\n",
        "    .format(logdir)\n",
        ")"
      ],
      "execution_count": 112,
      "outputs": []
    },
    {
      "cell_type": "code",
      "metadata": {
        "id": "MBlbCbOtneZG",
        "outputId": "f2974744-6888-447f-8fe6-0a0229a9ba9d",
        "colab": {
          "base_uri": "https://localhost:8080/",
          "height": 255
        }
      },
      "source": [
        "! wget https://bin.equinox.io/c/4VmDzA7iaHb/ngrok-stable-linux-amd64.zip\n",
        "! unzip ngrok-stable-linux-amd64.zip"
      ],
      "execution_count": 113,
      "outputs": [
        {
          "output_type": "stream",
          "text": [
            "--2020-10-20 06:19:51--  https://bin.equinox.io/c/4VmDzA7iaHb/ngrok-stable-linux-amd64.zip\n",
            "Resolving bin.equinox.io (bin.equinox.io)... 52.21.51.142, 3.209.148.13, 3.90.94.177, ...\n",
            "Connecting to bin.equinox.io (bin.equinox.io)|52.21.51.142|:443... connected.\n",
            "HTTP request sent, awaiting response... 200 OK\n",
            "Length: 13773305 (13M) [application/octet-stream]\n",
            "Saving to: ‘ngrok-stable-linux-amd64.zip.1’\n",
            "\n",
            "ngrok-stable-linux- 100%[===================>]  13.13M  35.7MB/s    in 0.4s    \n",
            "\n",
            "2020-10-20 06:19:51 (35.7 MB/s) - ‘ngrok-stable-linux-amd64.zip.1’ saved [13773305/13773305]\n",
            "\n",
            "Archive:  ngrok-stable-linux-amd64.zip\n",
            "replace ngrok? [y]es, [n]o, [A]ll, [N]one, [r]ename: y\n",
            "  inflating: ngrok                   \n"
          ],
          "name": "stdout"
        }
      ]
    },
    {
      "cell_type": "code",
      "metadata": {
        "id": "moMHo-9nnoo2"
      },
      "source": [
        "get_ipython().system_raw('./ngrok http 6006 &')"
      ],
      "execution_count": 114,
      "outputs": []
    },
    {
      "cell_type": "code",
      "metadata": {
        "id": "x5us23honqkw",
        "outputId": "7671ee2a-3826-48c6-f88d-9c39119fbc41",
        "colab": {
          "base_uri": "https://localhost:8080/",
          "height": 34
        }
      },
      "source": [
        "! curl -s http://localhost:4040/api/tunnels | python3 -c \\\n",
        "    \"import sys, json; print(json.load(sys.stdin)['tunnels'][0]['public_url'])\""
      ],
      "execution_count": 115,
      "outputs": [
        {
          "output_type": "stream",
          "text": [
            "http://dd895a142dbe.ngrok.io\n"
          ],
          "name": "stdout"
        }
      ]
    },
    {
      "cell_type": "markdown",
      "metadata": {
        "id": "v24T1JkFR-nG"
      },
      "source": [
        "#### Fit the model"
      ]
    },
    {
      "cell_type": "code",
      "metadata": {
        "id": "4cdiVrAVQ05g",
        "outputId": "4c70f244-ba71-4a2b-d74f-5457fe85ece5",
        "colab": {
          "base_uri": "https://localhost:8080/",
          "height": 51
        }
      },
      "source": [
        "%%time\n",
        "\n",
        "samples_per_batch = 500\n",
        "nr_epoch = 150\n",
        "model_1.fit(X_train_xs, \n",
        "            y_train_xs, \n",
        "            batch_size=samples_per_batch,\n",
        "            epochs=nr_epoch,\n",
        "            callbacks=[tensorboard_callback],\n",
        "            verbose=0,\n",
        "            validation_data=(X_val, y_val))"
      ],
      "execution_count": 116,
      "outputs": [
        {
          "output_type": "stream",
          "text": [
            "CPU times: user 1min 9s, sys: 1.27 s, total: 1min 10s\n",
            "Wall time: 39.8 s\n"
          ],
          "name": "stdout"
        }
      ]
    },
    {
      "cell_type": "code",
      "metadata": {
        "id": "R3o4SHN1QjpZ"
      },
      "source": [
        "# %tensorboard --logdir logs"
      ],
      "execution_count": 117,
      "outputs": []
    },
    {
      "cell_type": "markdown",
      "metadata": {
        "id": "mZ5WSsAErpw8"
      },
      "source": [
        "Dari hasi visualisasi tensorboard kita dapat menarik kesimpulan sementara bahwa model mengalami overfitting, dimana sering bertambahnya iterasi akurasi pada data training meningkat namun tidak pada data validation."
      ]
    },
    {
      "cell_type": "markdown",
      "metadata": {
        "id": "m00vT3BIwAoL"
      },
      "source": [
        "Regulerisasi / Regularisation merupakan metode yang digunakan untuk mencegah overfitting. [EarlyStopping](https://keras.io/api/callbacks/early_stopping/) dan [Dropout](https://keras.io/api/layers/regularization_layers/dropout/)"
      ]
    },
    {
      "cell_type": "code",
      "metadata": {
        "id": "KcJNNwFgSy7v",
        "outputId": "05da724a-4ac6-488f-86d8-61da0eaae8f0",
        "colab": {
          "base_uri": "https://localhost:8080/",
          "height": 51
        }
      },
      "source": [
        "%%time\n",
        "\n",
        "samples_per_batch = 500\n",
        "nr_epoch = 150\n",
        "model_2.fit(X_train_xs, \n",
        "            y_train_xs, \n",
        "            batch_size=samples_per_batch,\n",
        "            epochs=nr_epoch,\n",
        "            callbacks=[tensorboard_callback],\n",
        "            verbose=0,\n",
        "            validation_data=(X_val, y_val))"
      ],
      "execution_count": 122,
      "outputs": [
        {
          "output_type": "stream",
          "text": [
            "CPU times: user 1min 16s, sys: 1.34 s, total: 1min 17s\n",
            "Wall time: 43.5 s\n"
          ],
          "name": "stdout"
        }
      ]
    },
    {
      "cell_type": "code",
      "metadata": {
        "id": "EPoHiuaOy8zS"
      },
      "source": [
        ""
      ],
      "execution_count": null,
      "outputs": []
    }
  ]
}